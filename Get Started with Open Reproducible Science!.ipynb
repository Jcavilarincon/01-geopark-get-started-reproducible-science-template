{
 "cells": [
  {
   "cell_type": "markdown",
   "metadata": {
    "tags": [
     "remove_cell"
    ]
   },
   "source": [
    "<div><img style=\"float: left; padding-right: 3em;\" src=\"https://pbs.twimg.com/profile_images/1102342372438925312/64xKJFPk_400x400.png\" width=\"150\" /><div/>\n",
    "\n",
    "# It's another GeoPark 2024 Earth Data Science Workflow!\n",
    "This notebook contains your next earth data science coding challenge! Before we get started, make sure to read or review the guidelines below. These will help make sure that your code is readable and reproducible. "
   ]
  },
  {
   "attachments": {},
   "cell_type": "markdown",
   "metadata": {
    "tags": [
     "remove_cell"
    ]
   },
   "source": [
    "## Don't get **caught** by these Jupyter notebook gotchas\n",
    "\n",
    "<img src=\"https://miro.medium.com/v2/resize:fit:4800/format:webp/1*o0HleR7BSe8W-pTnmucqHA.jpeg\" height=300 style=\"padding: 1em; border-style: solid; border-color: grey;\" />\n",
    "\n",
    "  > *Image source: https://alaskausfws.medium.com/whats-big-and-brown-and-loves-salmon-e1803579ee36*\n",
    "\n",
    "These are the most common issues that will keep you from getting started and delay your code review:\n",
    "\n",
    "1. When you try to run some code, you may be prompted to select a **kernel**.\n",
    "   * The **kernel** refers to the version of Python you are using\n",
    "   * You should use the **base** kernel, which should be the default option. \n",
    "   * You can also use the `Select Kernel` menu in the upper right to select the **base** kernel\n",
    "2. Before you commit your work, make sure it runs **reproducibly** by clicking:\n",
    "   1. `Restart` (this button won't appear until you've run some code), then\n",
    "   2. `Run All`\n",
    "\n",
    "## Check your code to make sure it's clean and easy to read\n",
    "\n",
    "<img src=\"https://encrypted-tbn0.gstatic.com/images?q=tbn:ANd9GcSO1w9WrbwbuMLN14IezH-iq2HEGwO3JDvmo5Y_hQIy7k-Xo2gZH-mP2GUIG6RFWL04X1k&usqp=CAU\" height=200 />\n",
    "\n",
    "* Format all cells prior to submitting (right click on your code).\n",
    "* Use expressive names for variables so you or the reader knows what they are. \n",
    "* Use comments to explain your code -- e.g. \n",
    "  ```python\n",
    "  # This is a comment, it starts with a hash sign\n",
    "  ```\n",
    "\n",
    "## Label and describe your plots\n",
    "\n",
    "![Source: https://xkcd.com/833](https://imgs.xkcd.com/comics/convincing.png)\n",
    "\n",
    "Make sure each plot has:\n",
    "  * A title that explains where and when the data are from\n",
    "  * x- and y- axis labels with **units** where appropriate\n",
    "  * A legend where appropriate\n",
    "\n",
    "\n",
    "## Icons: how to use this notebook\n",
    "We use the following icons to let you know when you need to change something to complete the challenge:\n",
    "  * <img src=\"https://static.thenounproject.com/png/4260107-200.png\" width=20 style=\"float: left; padding: 3px\" /> means you need to write or edit some code.\n",
    "  \n",
    "  * <img src=\"https://uxwing.com/wp-content/themes/uxwing/download/education-school/read-book-icon.png\" width=20 style=\"float: left; padding: 3px\" /> indicates recommended reading\n",
    "  \n",
    "  * <img src=\"https://static.thenounproject.com/png/5640527-200.png\" width=20 style=\"float: left; padding: 3px\" /> marks written responses to questions\n",
    "  \n",
    "  * <img src=\"https://static.thenounproject.com/png/3842781-200.png\" width=20 style=\"float: left; padding: 3px\" /> is an optional extra challenge\n",
    "  "
   ]
  },
  {
   "cell_type": "markdown",
   "metadata": {},
   "source": [
    "---"
   ]
  },
  {
   "cell_type": "markdown",
   "metadata": {
    "deletable": false,
    "editable": false,
    "nbgrader": {
     "cell_type": "markdown",
     "checksum": "b6a310b8c40b06ed8830b588ad723ce4",
     "grade": false,
     "grade_id": "inst-get-started",
     "locked": true,
     "schema_version": 3,
     "solution": false,
     "task": false
    }
   },
   "source": [
    "# Get started with open reproducible science!\n",
    "\n",
    "[Open reproducible science](https://www.earthdatascience.org/courses/intro-to-earth-data-science/open-reproducible-science/get-started-open-reproducible-science/) makes scientific methods, data and outcomes available to everyone. That means that *everyone* who wants should be able to **find**, **read**, **understand**, and **run** your workflows for themselves.\n",
    "\n",
    "<img alt-text=\"Components of open science - accessible, reproducible, inclusive\" src=\"https://www.earthdata.nasa.gov/s3fs-public/2021-11/Circle_Diagram_UPDATE_2.jpg?VersionId=pFRniRpjtgc_MEXUJKi9_sXLoMsSX.pB\" width=500 />\n",
    "\n",
    " > Image from https://www.earthdata.nasa.gov/esds/open-science/oss-for-eso-workshops\n",
    "\n",
    "Few if any science projects are 100% open and reproducible (yet!). However, members of the open science community have developed open source tools and practices that can help you move toward that goal. You will learn about many of those tools in [the Intro to Earth Data Science textbook](https://www.earthdatascience.org/courses/intro-to-earth-data-science/). Don't worry about learning all the tools at once -- we've picked a few for you to get started with."
   ]
  },
  {
   "cell_type": "markdown",
   "metadata": {
    "deletable": false,
    "editable": false,
    "nbgrader": {
     "cell_type": "markdown",
     "checksum": "bedc3e882c8a11c150c829fea279d1c9",
     "grade": false,
     "grade_id": "task-open-science",
     "locked": true,
     "points": 12,
     "schema_version": 3,
     "solution": false,
     "task": true
    },
    "tags": [
     "remove_cell"
    ]
   },
   "source": [
    "## Your turn: what does open reproducible science mean to you?\n",
    "\n",
    "<img src=\"https://uxwing.com/wp-content/themes/uxwing/download/education-school/read-book-icon.png\" width=20 style=\"float: left; padding: 3px\" /> First, read about some of our thoughts in [the textbook chapter on open reproducible science](https://www.earthdatascience.org/courses/intro-to-earth-data-science/open-reproducible-science/get-started-open-reproducible-science/).\n",
    "\n",
    "**Then, create a new Markdown cell below this one** using the `+ Markdown` button in the upper left\n",
    "\n",
    "<img src=\"https://static.thenounproject.com/png/5640527-200.png\" width=20 style=\"float: left; padding: 3px\" /> In the new cell, answer the following questions using a **numbered list** in Markdown:\n",
    "\n",
    "  1. In 1-2 sentences, define open reproducible science.\n",
    "  2. In 1-2 sentences, choose one of the open source tools that you have learned about (i.e. Shell, Git/GitHub, Jupyter Notebook, Python) and explain how it supports open reproducible science.\n",
    "  3. In 1-2 sentences, does this Jupyter Notebook file have a machine-readable name? Explain your answer.\n"
   ]
  },
  {
   "cell_type": "markdown",
   "metadata": {
    "deletable": false,
    "editable": false,
    "nbgrader": {
     "cell_type": "markdown",
     "checksum": "b86bdb4a14ec89907d1757a1a5d0a506",
     "grade": false,
     "grade_id": "task-clean-code",
     "locked": true,
     "points": 8,
     "schema_version": 3,
     "solution": false,
     "task": true
    },
    "tags": [
     "remove_cell"
    ]
   },
   "source": [
    "---\n",
    "\n",
    "## **Readable**, **well-documented** scientific workflows are easier to reproduce\n",
    "\n",
    "As the comic below suggests, code that is hard to read is also hard to get working. We refer to code that is easy to read as **clean** code.\n",
    "\n",
    "[![And because if you just leave it there, it's going to start contaminating things downstream even if no one touches it directly. (from https://xkcd.com/2138/)](https://imgs.xkcd.com/comics/wanna_see_the_code.png)](https://www.explainxkcd.com/wiki/index.php/2138:_Wanna_See_the_Code%3F)\n",
    "\n",
    "\n",
    "<img src=\"https://static.thenounproject.com/png/5640527-200.png\" width=20 style=\"float: left; padding: 3px\" /> **In the prompt below, list 3 things you can do to write clean code, and then list 3 more advantages of doing so.**\n",
    "  * Double click on the cell to edit\n",
    "  * You can use examples from the textbook, or come up with your own. \n",
    "  * Use [**Markdown**](https://www.markdownguide.org/) to format your list.\n",
    "  "
   ]
  },
  {
   "cell_type": "markdown",
   "metadata": {},
   "source": [
    "I can write clean code by:\n",
    "  * `YOUR ANSWER HERE`\n",
    "\n",
    "\n",
    "Advantages of clean code include:\n",
    "  * `YOUR ANSWER HERE`"
   ]
  },
  {
   "cell_type": "markdown",
   "metadata": {
    "deletable": false,
    "editable": false,
    "nbgrader": {
     "cell_type": "markdown",
     "checksum": "5d948619f1bce547c88aa7386030659f",
     "grade": false,
     "grade_id": "inst-what-the-fork",
     "locked": true,
     "schema_version": 3,
     "solution": false,
     "task": false
    },
    "tags": [
     "remove_cell"
    ]
   },
   "source": [
    "---\n",
    "\n",
    "## What the fork?! Who wrote this?\n",
    "\n",
    "Below is a scientific Python workflow. But something's wrong -- The code won't run! Your task is to follow the instructions below to **clean and debug** the Python code below so that it runs.\n",
    " > Don't worry if you can't solve every bug right away. We'll get there! The most important thing is to identify problems with the code and write high-quality [**GitHub Issues**](https://docs.github.com/en/issues/tracking-your-work-with-issues/creating-an-issue#creating-an-issue-from-a-repository)\n",
    "\n",
    "At the end, you'll **repeat the workflow** for a location and measurement of your choosing.\n",
    "\n",
    "### Alright! Let's clean up this code. First things first...\n",
    "\n",
    "<img src=\"https://static.thenounproject.com/png/4260107-200.png\" width=20 style=\"float: left; padding: 3px\" /> Rename this notebook if necessary with an [**expressive and machine-readable file name**](https://www.earthdatascience.org/courses/intro-to-earth-data-science/open-reproducible-science/get-started-open-reproducible-science/best-practices-for-organizing-open-reproducible-science/)"
   ]
  },
  {
   "cell_type": "markdown",
   "metadata": {
    "deletable": false,
    "editable": false,
    "nbgrader": {
     "cell_type": "markdown",
     "checksum": "6cd5190231b313baed4e7bd505199e40",
     "grade": false,
     "grade_id": "inst-import",
     "locked": true,
     "schema_version": 3,
     "solution": false,
     "task": false
    },
    "tags": [
     "remove_cell"
    ]
   },
   "source": [
    "---\n",
    "\n",
    "## Python **packages** let you use code written by experts around the world\n",
    "\n",
    "Because Python is open source, lots of different people and organizations can contribute (including you!). Many contributions are in the form of **packages** which do not come with a standard Python download. Read more in your textbook: \n",
    "  * <img src=\"https://uxwing.com/wp-content/themes/uxwing/download/education-school/read-book-icon.png\" width=20 style=\"float: left; padding: 3px\" />  [Packages need to be installed and **imported**](https://www.earthdatascience.org/courses/intro-to-earth-data-science/python-code-fundamentals/use-python-packages/). \n",
    "\n",
    "  * <img src=\"https://uxwing.com/wp-content/themes/uxwing/download/education-school/read-book-icon.png\" width=20 style=\"float: left; padding: 3px\" /> In the cell below, someone was trying to import the **pandas package**, which helps us to work with [**tabular data** such as comma-separated value or csv files](https://www.earthdatascience.org/courses/intro-to-earth-data-science/file-formats/use-text-files/).\n",
    "\n",
    "<img src=\"https://static.thenounproject.com/png/4260107-200.png\" width=20 style=\"float: left; padding: 3px\" /> Your task -- **uncomment** the code in the cell below by removeing the `#` symbol on the left of line 2, and correct the typo to properly import the pandas package under its **alias** pd."
   ]
  },
  {
   "cell_type": "code",
   "execution_count": 4,
   "metadata": {
    "deletable": false,
    "nbgrader": {
     "cell_type": "code",
     "checksum": "830a5d10430fb6961065adea1ec3f3d5",
     "grade": false,
     "grade_id": "code-import",
     "locked": false,
     "schema_version": 3,
     "solution": true,
     "task": false
    }
   },
   "outputs": [],
   "source": [
    "# Import pandas package\n",
    "import pandas as pd\n",
    "\n"
   ]
  },
  {
   "cell_type": "markdown",
   "metadata": {
    "deletable": false,
    "editable": false,
    "nbgrader": {
     "cell_type": "markdown",
     "checksum": "a17d4c01d801f3c81937d32ee6f0d96b",
     "grade": false,
     "grade_id": "test-instructions",
     "locked": true,
     "schema_version": 3,
     "solution": false,
     "task": false
    }
   },
   "source": [
    "Once you have run the cell above and imported `pandas`, **run the cell below**. It is a test cell that will tell you if you completed the task successfully. If a test cell isn't working the way you expect, check that you ran your code **immediately before** running the test."
   ]
  },
  {
   "cell_type": "code",
   "execution_count": 5,
   "metadata": {
    "deletable": false,
    "editable": false,
    "nbgrader": {
     "cell_type": "code",
     "checksum": "70e7b925543e124b328e27f2b74c6b78",
     "grade": true,
     "grade_id": "test-import",
     "locked": true,
     "points": 5,
     "schema_version": 3,
     "solution": false,
     "task": false
    }
   },
   "outputs": [
    {
     "name": "stdout",
     "output_type": "stream",
     "text": [
      "✅ Great work! You correctly imported the pandas library.\n",
      "You earned 5 of 5 points for importing pandas\n"
     ]
    }
   ],
   "source": [
    "# DO NOT MODIFY THIS TEST CELL\n",
    "points = 0\n",
    "try:\n",
    "    pd.DataFrame()\n",
    "    points += 5\n",
    "    print('\\u2705 Great work! You correctly imported the pandas library.')\n",
    "except:\n",
    "    print('\\u274C Oops - pandas was not imported correctly.')\n",
    "print('You earned {} of 5 points for importing pandas'.format(points))"
   ]
  },
  {
   "cell_type": "markdown",
   "metadata": {
    "deletable": false,
    "editable": false,
    "nbgrader": {
     "cell_type": "markdown",
     "checksum": "3c7eee53f96efda56c52b513d33aa605",
     "grade": false,
     "grade_id": "task-find-data",
     "locked": true,
     "points": 10,
     "schema_version": 3,
     "solution": false,
     "task": true
    },
    "tags": [
     "remove_cell"
    ]
   },
   "source": [
    "---\n",
    "\n",
    "## There are more Earth Observation data online than any one person could ever look at\n",
    "\n",
    "[NASA's Earth Observing System Data and Information System (EOSDIS) alone manages over 9PB of data](https://www.earthdata.nasa.gov/learn/articles/getting-petabytes-people-how-eosdis-facilitates-earth-observing-data-discovery-and-use). 1 PB is roughly 100 times the entire Library of Congress (a good approximation of all the books available in the US). It's all available to **you** once you learn how to download what you want.\n",
    "\n",
    "The following workflow looks at **global temperature anomalies** over time (1850-2022). This notebook uses data from the National Centers for Environmental Information (NCEI). [Check out the NCEI Climate at a Glance website where you can search for more data like this](https://www.ncei.noaa.gov/access/monitoring/climate-at-a-glance/).\n",
    "\n",
    "\n",
    "<img src=\"https://static.thenounproject.com/png/5640527-200.png\" width=20 style=\"float: left; padding: 3px\" /> Your task:\n",
    "  1. Research the **[Climate at a Glance](https://www.ncei.noaa.gov/access/monitoring/climate-at-a-glance/)** data source. \n",
    "  2. In the cell below, write a 2-3 sentence description of the data source. You should describe:\n",
    "     - who takes the data\n",
    "     - where the data were taken\n",
    "     - what the maximum temperature units are\n",
    "     - how the data are collected.\n",
    "  3. Include a citation of the data (HINT: NCEI has a section for 'Citing this page', but you will have to select a particular dataset such as `Globe` > `Global Time Series`).\n",
    "\n"
   ]
  },
  {
   "cell_type": "markdown",
   "metadata": {},
   "source": [
    "**YOUR DATA DESCRIPTION AND CITATION HERE**\n",
    "Data colected by saltellites "
   ]
  },
  {
   "cell_type": "markdown",
   "metadata": {
    "deletable": false,
    "editable": false,
    "nbgrader": {
     "cell_type": "markdown",
     "checksum": "bd0bf2ae25bcca0649bf2c7554f6febb",
     "grade": false,
     "grade_id": "instr-url",
     "locked": true,
     "schema_version": 3,
     "solution": false,
     "task": false
    },
    "tags": [
     "remove_cell"
    ]
   },
   "source": [
    "## You can access NCEI Climate At a Glance Data from the internet using its URL\n",
    "\n",
    "The cell below contains the URL for the data you will use in this part of the notebook. We got that URL by right-clicking on the blue `CSV` download button. You don't have to do that just yet -- this URL is correct! However, we still have a problem - we can't get the URL back  later on because it isn't saved in a **variable**. In other words, we need to give the url a name so that we can request in from Python later (sadly, Python has no 'hey what was that thingy I typed earlier?' function)\n",
    "\n",
    "<img src=\"https://uxwing.com/wp-content/themes/uxwing/download/education-school/read-book-icon.png\" width=20 style=\"float: left; padding: 3px\" /> Check out the [textbook section on variables](https://www.earthdatascience.org/courses/intro-to-earth-data-science/python-code-fundamentals/get-started-using-python/variables/)\n",
    "\n",
    "<img src=\"https://static.thenounproject.com/png/4260107-200.png\" width=20 style=\"float: left; padding: 3px\" /> **Your task:**\n",
    "  1. Pick an expressive variable name for the URL\n",
    "     > HINT: click on the `Variables` button up top to see all your variables. Your new url variable will not be there until you define it and run the code\n",
    "  2. Reformat the URL so that it adheres to the [79-character PEP-8 line limit](https://peps.python.org/pep-0008/#maximum-line-length)\n",
    "     > HINT: You should see two vertical lines in each cell - don't let your code go past the second line\n",
    "  3. At the end of the cell where you define your url variable, **call your variable (type out its name)** so it can be tested."
   ]
  },
  {
   "cell_type": "code",
   "execution_count": 6,
   "metadata": {
    "code_folding": [],
    "deletable": false,
    "nbgrader": {
     "cell_type": "code",
     "checksum": "a8d372682bd806c552c3dbb2afe5df70",
     "grade": false,
     "grade_id": "ans-url",
     "locked": false,
     "schema_version": 3,
     "solution": true,
     "task": false
    }
   },
   "outputs": [
    {
     "data": {
      "text/plain": [
       "'https://www.ncei.noaa.gov/access/monitoring/climate-at-a-glance/global/time-series/globe/land_ocean/1/12/1850-2023/data.csv'"
      ]
     },
     "execution_count": 6,
     "metadata": {},
     "output_type": "execute_result"
    }
   ],
   "source": [
    "source_url = ('https://www.ncei.noaa.gov/access/monitoring/'\n",
    "              'climate-at-a-glance/global/time-series/globe/land_ocean/'\n",
    "              '1/12/1850-2023/data.csv')\n",
    "source_url\n"
   ]
  },
  {
   "cell_type": "code",
   "execution_count": 7,
   "metadata": {
    "deletable": false,
    "editable": false,
    "nbgrader": {
     "cell_type": "code",
     "checksum": "794d271ea596081b08b64a75b3fbbe56",
     "grade": true,
     "grade_id": "test-url",
     "locked": true,
     "points": 6,
     "schema_version": 3,
     "solution": false,
     "task": false
    }
   },
   "outputs": [
    {
     "name": "stdout",
     "output_type": "stream",
     "text": [
      "✅ Great work! You correctly called your url variable.\n",
      "✅ Great work! Your url is the correct length.\n",
      "You earned 6 of 6 points for defining a url variable\n"
     ]
    }
   ],
   "source": [
    "# DO NOT MODIFY THIS TEST CELL\n",
    "resp_url = _\n",
    "points = 0\n",
    "\n",
    "if type(resp_url)==str:\n",
    "    points += 3\n",
    "    print('\\u2705 Great work! You correctly called your url variable.')\n",
    "else:\n",
    "    print('\\u274C Oops - your url variable was not called correctly.')\n",
    "\n",
    "if len(resp_url)<=123:\n",
    "    points += 3\n",
    "    print('\\u2705 Great work! Your url is the correct length.')\n",
    "else:\n",
    "    print('\\u274C Oops - your url variable is not the correct length.')\n",
    "\n",
    "print('You earned {} of 6 points for defining a url variable'.format(points))"
   ]
  },
  {
   "cell_type": "markdown",
   "metadata": {
    "deletable": false,
    "editable": false,
    "nbgrader": {
     "cell_type": "markdown",
     "checksum": "6e03148e595d52513aa1809ed05ee188",
     "grade": false,
     "grade_id": "instr-download",
     "locked": true,
     "schema_version": 3,
     "solution": false,
     "task": false
    },
    "tags": [
     "remove_cell"
    ]
   },
   "source": [
    "---\n",
    "\n",
    "## Download and get started working with NCEI data\n",
    "\n",
    "The `pandas` library you imported can download data from the internet directly into a type of Python **object** called a `DataFrame`. In the code cell below, you can see an attempt to do just this. But there are some problems..."
   ]
  },
  {
   "cell_type": "markdown",
   "metadata": {
    "deletable": false,
    "editable": false,
    "nbgrader": {
     "cell_type": "markdown",
     "checksum": "77c2c2ce71d5dc816305ae8863ee2357",
     "grade": false,
     "grade_id": "task-download",
     "locked": true,
     "points": 6,
     "schema_version": 3,
     "solution": false,
     "task": true
    },
    "tags": [
     "remove_cell"
    ]
   },
   "source": [
    "<img src=\"https://static.thenounproject.com/png/4260107-200.png\" width=20 style=\"float: left; padding: 3px\" /> You're ready to fix some code! Your task is to:\n",
    "  1. Make any changes needed to get this code to run. Here's some hints:\n",
    "     > HINT: The my_url variable doesn't exist - you need to replace it with the variable name **you** chose.\n",
    "  2. Modify the value of the `header` parameter so that only numeric data values are included in each column.\n",
    "  3. Clean up the code by using **expressive variable names**, **expressive column names**, **PEP-8 compliant code**, and **descriptive comments**\n",
    "\n",
    "**Make sure to call your `DataFrame` by typing it's name as the last line of your code cell** Then, you will be able to run the test cell below and find out if your answer is correct.\n"
   ]
  },
  {
   "cell_type": "code",
   "execution_count": 29,
   "metadata": {},
   "outputs": [
    {
     "data": {
      "text/html": [
       "<div>\n",
       "<style scoped>\n",
       "    .dataframe tbody tr th:only-of-type {\n",
       "        vertical-align: middle;\n",
       "    }\n",
       "\n",
       "    .dataframe tbody tr th {\n",
       "        vertical-align: top;\n",
       "    }\n",
       "\n",
       "    .dataframe thead th {\n",
       "        text-align: right;\n",
       "    }\n",
       "</style>\n",
       "<table border=\"1\" class=\"dataframe\">\n",
       "  <thead>\n",
       "    <tr style=\"text-align: right;\">\n",
       "      <th></th>\n",
       "      <th>Año</th>\n",
       "      <th>TempAnomalia[C]</th>\n",
       "    </tr>\n",
       "  </thead>\n",
       "  <tbody>\n",
       "    <tr>\n",
       "      <th>0</th>\n",
       "      <td>1850</td>\n",
       "      <td>-0.06</td>\n",
       "    </tr>\n",
       "    <tr>\n",
       "      <th>1</th>\n",
       "      <td>1851</td>\n",
       "      <td>-0.08</td>\n",
       "    </tr>\n",
       "    <tr>\n",
       "      <th>2</th>\n",
       "      <td>1852</td>\n",
       "      <td>-0.01</td>\n",
       "    </tr>\n",
       "    <tr>\n",
       "      <th>3</th>\n",
       "      <td>1853</td>\n",
       "      <td>-0.12</td>\n",
       "    </tr>\n",
       "    <tr>\n",
       "      <th>4</th>\n",
       "      <td>1854</td>\n",
       "      <td>0.02</td>\n",
       "    </tr>\n",
       "    <tr>\n",
       "      <th>...</th>\n",
       "      <td>...</td>\n",
       "      <td>...</td>\n",
       "    </tr>\n",
       "    <tr>\n",
       "      <th>169</th>\n",
       "      <td>2019</td>\n",
       "      <td>1.12</td>\n",
       "    </tr>\n",
       "    <tr>\n",
       "      <th>170</th>\n",
       "      <td>2020</td>\n",
       "      <td>0.83</td>\n",
       "    </tr>\n",
       "    <tr>\n",
       "      <th>171</th>\n",
       "      <td>2021</td>\n",
       "      <td>0.90</td>\n",
       "    </tr>\n",
       "    <tr>\n",
       "      <th>172</th>\n",
       "      <td>2022</td>\n",
       "      <td>0.83</td>\n",
       "    </tr>\n",
       "    <tr>\n",
       "      <th>173</th>\n",
       "      <td>2023</td>\n",
       "      <td>1.39</td>\n",
       "    </tr>\n",
       "  </tbody>\n",
       "</table>\n",
       "<p>174 rows × 2 columns</p>\n",
       "</div>"
      ],
      "text/plain": [
       "      Año  TempAnomalia[C]\n",
       "0    1850            -0.06\n",
       "1    1851            -0.08\n",
       "2    1852            -0.01\n",
       "3    1853            -0.12\n",
       "4    1854             0.02\n",
       "..    ...              ...\n",
       "169  2019             1.12\n",
       "170  2020             0.83\n",
       "171  2021             0.90\n",
       "172  2022             0.83\n",
       "173  2023             1.39\n",
       "\n",
       "[174 rows x 2 columns]"
      ]
     },
     "execution_count": 29,
     "metadata": {},
     "output_type": "execute_result"
    }
   ],
   "source": [
    "dataframe = pd.read_csv(source_url, header=4, names=['Año', 'TempAnomalia[C]'])\n",
    "dataframe"
   ]
  },
  {
   "cell_type": "code",
   "execution_count": 9,
   "metadata": {
    "deletable": false,
    "nbgrader": {
     "cell_type": "code",
     "checksum": "b392e8de82cc180731b47b539157c68e",
     "grade": false,
     "grade_id": "ans-download",
     "locked": false,
     "schema_version": 3,
     "solution": true,
     "task": false
    }
   },
   "outputs": [
    {
     "ename": "NameError",
     "evalue": "name 'my_url' is not defined",
     "output_type": "error",
     "traceback": [
      "\u001b[0;31m---------------------------------------------------------------------------\u001b[0m",
      "\u001b[0;31mNameError\u001b[0m                                 Traceback (most recent call last)",
      "Cell \u001b[0;32mIn[9], line 2\u001b[0m\n\u001b[1;32m      1\u001b[0m \u001b[38;5;66;03m#download\u001b[39;00m\n\u001b[0;32m----> 2\u001b[0m dataframe \u001b[38;5;241m=\u001b[39m pd\u001b[38;5;241m.\u001b[39mread_csv(\u001b[43mmy_url\u001b[49m, header\u001b[38;5;241m=\u001b[39m\u001b[38;5;241m4\u001b[39m, names\u001b[38;5;241m=\u001b[39m[\u001b[38;5;124m'\u001b[39m\u001b[38;5;124mAño\u001b[39m\u001b[38;5;124m'\u001b[39m, \u001b[38;5;124m'\u001b[39m\u001b[38;5;124mAnomalia_Temp\u001b[39m\u001b[38;5;124m'\u001b[39m])\n\u001b[1;32m      3\u001b[0m dataframe\n",
      "\u001b[0;31mNameError\u001b[0m: name 'my_url' is not defined"
     ]
    }
   ],
   "source": [
    "#download\n",
    "dataframe = pd.read_csv(my_url, header=4, names=['Año', 'Anomalia_Temp'])\n",
    "dataframe\n"
   ]
  },
  {
   "cell_type": "code",
   "execution_count": null,
   "metadata": {
    "deletable": false,
    "editable": false,
    "nbgrader": {
     "cell_type": "code",
     "checksum": "9f4eb093148c7a4bbd1172c0ab10d22b",
     "grade": true,
     "grade_id": "test-download",
     "locked": true,
     "points": 5,
     "schema_version": 3,
     "solution": false,
     "task": false
    }
   },
   "outputs": [
    {
     "ename": "NameError",
     "evalue": "name 'pd' is not defined",
     "output_type": "error",
     "traceback": [
      "\u001b[0;31m---------------------------------------------------------------------------\u001b[0m",
      "\u001b[0;31mNameError\u001b[0m                                 Traceback (most recent call last)",
      "Cell \u001b[0;32mIn[1], line 5\u001b[0m\n\u001b[1;32m      2\u001b[0m tmax_df_resp \u001b[38;5;241m=\u001b[39m _\n\u001b[1;32m      3\u001b[0m points \u001b[38;5;241m=\u001b[39m \u001b[38;5;241m0\u001b[39m\n\u001b[0;32m----> 5\u001b[0m \u001b[38;5;28;01mif\u001b[39;00m \u001b[38;5;28misinstance\u001b[39m(tmax_df_resp, \u001b[43mpd\u001b[49m\u001b[38;5;241m.\u001b[39mDataFrame):\n\u001b[1;32m      6\u001b[0m     points \u001b[38;5;241m+\u001b[39m\u001b[38;5;241m=\u001b[39m \u001b[38;5;241m1\u001b[39m\n\u001b[1;32m      7\u001b[0m     \u001b[38;5;28mprint\u001b[39m(\u001b[38;5;124m'\u001b[39m\u001b[38;5;130;01m\\u2705\u001b[39;00m\u001b[38;5;124m Great work! You called a DataFrame.\u001b[39m\u001b[38;5;124m'\u001b[39m)\n",
      "\u001b[0;31mNameError\u001b[0m: name 'pd' is not defined"
     ]
    }
   ],
   "source": [
    "# DO NOT MODIFY THIS TEST CELL\n",
    "tmax_df_resp = _\n",
    "points = 0\n",
    "\n",
    "if isinstance(tmax_df_resp, pd.DataFrame):\n",
    "    points += 1\n",
    "    print('\\u2705 Great work! You called a DataFrame.')\n",
    "else:\n",
    "    print('\\u274C Oops - make sure to call your DataFrame for testing.')\n",
    "    \n",
    "summary = [round(val, 17) for val in tmax_df_resp.mean().values]\n",
    "if summary == [1936.0, 0.04375722543352601]:\n",
    "    points += 4\n",
    "    print('\\u2705 Great work! You correctly downloaded data.')\n",
    "else:\n",
    "    print('\\u274C Oops - your data are not correct.')\n",
    "print('You earned {} of 5 points for downloading data'.format(points))"
   ]
  },
  {
   "cell_type": "markdown",
   "metadata": {
    "deletable": false,
    "editable": false,
    "nbgrader": {
     "cell_type": "markdown",
     "checksum": "da32cd350f7ef29723ff4ea3d0c877fc",
     "grade": false,
     "grade_id": "inst-type",
     "locked": true,
     "schema_version": 3,
     "solution": false,
     "task": false
    }
   },
   "source": [
    "  > HINT: Check out the `type()` function below - you can use it to check that your data is now in `DataFrame` type object"
   ]
  },
  {
   "cell_type": "code",
   "execution_count": 21,
   "metadata": {},
   "outputs": [
    {
     "data": {
      "text/plain": [
       "pandas.core.frame.DataFrame"
      ]
     },
     "execution_count": 21,
     "metadata": {},
     "output_type": "execute_result"
    }
   ],
   "source": [
    "# Check that the data was imported into a pandas DataFrame\n",
    "type(dataframe)"
   ]
  },
  {
   "cell_type": "markdown",
   "metadata": {
    "deletable": false,
    "editable": false,
    "nbgrader": {
     "cell_type": "markdown",
     "checksum": "857fbc5d6a8e1d13829b29e5686ad448",
     "grade": false,
     "grade_id": "ans-clean",
     "locked": true,
     "schema_version": 3,
     "solution": false,
     "task": false
    },
    "tags": [
     "remove_cell"
    ]
   },
   "source": [
    "---\n",
    "\n",
    "## Cleaning up your `DataFrame`\n",
    "\n",
    "Take a look at your data. Do you want to use it as is, or does it need to be modified? The original author of this code thought it needed some modification, but didn't document their work very well.\n",
    "\n",
    "<img src=\"https://static.thenounproject.com/png/4260107-200.png\" width=20 style=\"float: left; padding: 3px\" /> Playing with code: your task\n",
    "\n",
    " 1. Replace `dataframe` with the name of **your** dataframe whenever it appears.\n",
    " 2. Run the code below."
   ]
  },
  {
   "cell_type": "markdown",
   "metadata": {
    "deletable": false,
    "editable": false,
    "nbgrader": {
     "cell_type": "markdown",
     "checksum": "2d5dcabc6c5926a32489da530ac981ec",
     "grade": false,
     "grade_id": "extra-index",
     "locked": true,
     "schema_version": 3,
     "solution": false,
     "task": false
    }
   },
   "source": [
    "<img src=\"https://static.thenounproject.com/png/3842781-200.png\" width=20 style=\"float: left; padding: 3px\" /> Want an EXTRA CHALLENGE? Modify the code to be **more expressive**.\n",
    "\n",
    "Rewrite the code below to select columns by **name** instead of by **index**. You might find the [pandas User Guide section on slicing and dicing](https://pandas.pydata.org/docs/user_guide/indexing.html) to be useful. However - don't worry if you can't figure this out yet! We're going to talk a lot about how to use pandas `DataFrame`s. "
   ]
  },
  {
   "cell_type": "code",
   "execution_count": 31,
   "metadata": {
    "deletable": false,
    "nbgrader": {
     "cell_type": "code",
     "checksum": "968060e4320f4695530c377f532f1adc",
     "grade": false,
     "grade_id": "ans-convert",
     "locked": false,
     "schema_version": 3,
     "solution": true,
     "task": false
    }
   },
   "outputs": [
    {
     "data": {
      "text/html": [
       "<div>\n",
       "<style scoped>\n",
       "    .dataframe tbody tr th:only-of-type {\n",
       "        vertical-align: middle;\n",
       "    }\n",
       "\n",
       "    .dataframe tbody tr th {\n",
       "        vertical-align: top;\n",
       "    }\n",
       "\n",
       "    .dataframe thead th {\n",
       "        text-align: right;\n",
       "    }\n",
       "</style>\n",
       "<table border=\"1\" class=\"dataframe\">\n",
       "  <thead>\n",
       "    <tr style=\"text-align: right;\">\n",
       "      <th></th>\n",
       "      <th>Año</th>\n",
       "      <th>TempAnomalia[C]</th>\n",
       "      <th>TempAnomalia[F]</th>\n",
       "    </tr>\n",
       "  </thead>\n",
       "  <tbody>\n",
       "    <tr>\n",
       "      <th>0</th>\n",
       "      <td>1850</td>\n",
       "      <td>-0.06</td>\n",
       "      <td>31.892</td>\n",
       "    </tr>\n",
       "    <tr>\n",
       "      <th>1</th>\n",
       "      <td>1851</td>\n",
       "      <td>-0.08</td>\n",
       "      <td>31.856</td>\n",
       "    </tr>\n",
       "    <tr>\n",
       "      <th>2</th>\n",
       "      <td>1852</td>\n",
       "      <td>-0.01</td>\n",
       "      <td>31.982</td>\n",
       "    </tr>\n",
       "    <tr>\n",
       "      <th>3</th>\n",
       "      <td>1853</td>\n",
       "      <td>-0.12</td>\n",
       "      <td>31.784</td>\n",
       "    </tr>\n",
       "    <tr>\n",
       "      <th>4</th>\n",
       "      <td>1854</td>\n",
       "      <td>0.02</td>\n",
       "      <td>32.036</td>\n",
       "    </tr>\n",
       "    <tr>\n",
       "      <th>...</th>\n",
       "      <td>...</td>\n",
       "      <td>...</td>\n",
       "      <td>...</td>\n",
       "    </tr>\n",
       "    <tr>\n",
       "      <th>169</th>\n",
       "      <td>2019</td>\n",
       "      <td>1.12</td>\n",
       "      <td>34.016</td>\n",
       "    </tr>\n",
       "    <tr>\n",
       "      <th>170</th>\n",
       "      <td>2020</td>\n",
       "      <td>0.83</td>\n",
       "      <td>33.494</td>\n",
       "    </tr>\n",
       "    <tr>\n",
       "      <th>171</th>\n",
       "      <td>2021</td>\n",
       "      <td>0.90</td>\n",
       "      <td>33.620</td>\n",
       "    </tr>\n",
       "    <tr>\n",
       "      <th>172</th>\n",
       "      <td>2022</td>\n",
       "      <td>0.83</td>\n",
       "      <td>33.494</td>\n",
       "    </tr>\n",
       "    <tr>\n",
       "      <th>173</th>\n",
       "      <td>2023</td>\n",
       "      <td>1.39</td>\n",
       "      <td>34.502</td>\n",
       "    </tr>\n",
       "  </tbody>\n",
       "</table>\n",
       "<p>174 rows × 3 columns</p>\n",
       "</div>"
      ],
      "text/plain": [
       "      Año  TempAnomalia[C]  TempAnomalia[F]\n",
       "0    1850            -0.06           31.892\n",
       "1    1851            -0.08           31.856\n",
       "2    1852            -0.01           31.982\n",
       "3    1853            -0.12           31.784\n",
       "4    1854             0.02           32.036\n",
       "..    ...              ...              ...\n",
       "169  2019             1.12           34.016\n",
       "170  2020             0.83           33.494\n",
       "171  2021             0.90           33.620\n",
       "172  2022             0.83           33.494\n",
       "173  2023             1.39           34.502\n",
       "\n",
       "[174 rows x 3 columns]"
      ]
     },
     "execution_count": 31,
     "metadata": {},
     "output_type": "execute_result"
    }
   ],
   "source": [
    "#convert to fahrenheit\n",
    "dataframe['TempAnomalia[F]'] = (dataframe.iloc[:,1] *9/5) + 32\n",
    "dataframe\n"
   ]
  },
  {
   "cell_type": "code",
   "execution_count": 25,
   "metadata": {
    "deletable": false,
    "editable": false,
    "nbgrader": {
     "cell_type": "code",
     "checksum": "52631129cac959f6b95aa83741afc5a9",
     "grade": true,
     "grade_id": "cell-6b2f3f995cff90be",
     "locked": true,
     "points": 5,
     "schema_version": 3,
     "solution": false,
     "task": false
    }
   },
   "outputs": [
    {
     "name": "stdout",
     "output_type": "stream",
     "text": [
      "✅ Great work! You called a DataFrame.\n",
      "❌ Oops - your data are not correct.\n",
      "You earned 1 of 5 points for converting to Celcius\n"
     ]
    }
   ],
   "source": [
    "# DO NOT MODIFY THIS TEST CELL\n",
    "tmax_df_resp = _\n",
    "points = 0\n",
    "\n",
    "if isinstance(tmax_df_resp, pd.DataFrame):\n",
    "    points += 1\n",
    "    print('\\u2705 Great work! You called a DataFrame.')\n",
    "else:\n",
    "    print('\\u274C Oops - make sure to call your DataFrame for testing.')\n",
    "    \n",
    "summary = [round(val, 17) for val in tmax_df_resp.mean().values]\n",
    "if summary == [1936.0, 0.04375722543352601, 32.078763005780345]:\n",
    "    points += 4\n",
    "    print('\\u2705 Great work! You correctly converted to Celcius.')\n",
    "else:\n",
    "    print('\\u274C Oops - your data are not correct.')\n",
    "print('You earned {} of 5 points for converting to Celcius'.format(points))"
   ]
  },
  {
   "cell_type": "markdown",
   "metadata": {
    "deletable": false,
    "editable": false,
    "nbgrader": {
     "cell_type": "markdown",
     "checksum": "7f4f8fc57c19d6d3ca74df6fa6206f83",
     "grade": false,
     "grade_id": "cell-9c61560ad3c3bfb9",
     "locked": true,
     "schema_version": 3,
     "solution": false,
     "task": false
    }
   },
   "source": [
    "<img src=\"https://static.thenounproject.com/png/3842781-200.png\" width=20 style=\"float: left; padding: 3px\" /> Want an **EXTRA CHALLENGE**?\n",
    "  1. As you did above, rewrite the code to be more expressive\n",
    "  2. Using the code below as a framework, write and apply a **function** that converts to Celcius.\n",
    "     > **Functions** let you reuse code you have already written\n",
    "  \n",
    "  3. You should also rewrite this function name to be more expressive.\n",
    "  \n",
    "        ```python\n",
    "        def convert(temperature):\n",
    "            \"\"\"Convert temperature to Celcius\"\"\"\n",
    "            return temperature # Put your equation in here\n",
    "\n",
    "        dataframe['temp_c'] = dataframe['temp_f'].apply(convert)\n",
    "        ```"
   ]
  },
  {
   "cell_type": "markdown",
   "metadata": {
    "deletable": false,
    "editable": false,
    "nbgrader": {
     "cell_type": "markdown",
     "checksum": "7e123f1d11eaf151f6477393079e63fe",
     "grade": false,
     "grade_id": "cell-d70159f9f56fc131",
     "locked": true,
     "schema_version": 3,
     "solution": false,
     "task": false
    },
    "tags": [
     "remove_cell"
    ]
   },
   "source": [
    "## Plot the global temperature anomaly\n",
    "\n",
    "Plotting in Python is easy, but not quite this easy! You'll always need to add some instructions on labels and how you want your plot to look.\n",
    "\n",
    "  1. Change `dataframe` to **your** `DataFrame` name.\n",
    "  2. Change `'col_1'` and `'col_2'` to **your** column names\n",
    "  3. Use the `title`, `ylabel`, and `xlabel` parameters to add key text to your plot.\n",
    "  \n",
    "> HINT: labels have to be a type in Python called a **string**. You can make a string by putting quotes around your label, just like the column names in the sample code."
   ]
  },
  {
   "cell_type": "code",
   "execution_count": 32,
   "metadata": {
    "deletable": false,
    "nbgrader": {
     "cell_type": "code",
     "checksum": "5aba7efd412416791240f2b95680c5f6",
     "grade": false,
     "grade_id": "ans-plot",
     "locked": false,
     "schema_version": 3,
     "solution": true,
     "task": false
    }
   },
   "outputs": [
    {
     "data": {
      "text/plain": [
       "<Axes: title={'center': 'Anomalia de tempreratura desde 1850'}, xlabel='Año', ylabel='Tem [C°]'>"
      ]
     },
     "execution_count": 32,
     "metadata": {},
     "output_type": "execute_result"
    },
    {
     "data": {
      "image/png": "[encoded data removed]",
      "text/plain": [
       "<Figure size 640x480 with 1 Axes>"
      ]
     },
     "metadata": {},
     "output_type": "display_data"
    }
   ],
   "source": [
    "dataframe.plot(x='Año', y='TempAnomalia[C]', \n",
    "               title='Anomalia de tempreratura desde 1850', \n",
    "               ylabel='Tem [C°]', xlabel='Año')\n",
    "\n"
   ]
  },
  {
   "cell_type": "markdown",
   "metadata": {
    "deletable": false,
    "editable": false,
    "nbgrader": {
     "cell_type": "markdown",
     "checksum": "31b8869da69e3e81d9abcfc06a4e4d96",
     "grade": false,
     "grade_id": "cell-ef362f3e65637f04",
     "locked": true,
     "schema_version": 3,
     "solution": false,
     "task": false
    }
   },
   "source": [
    "**THIS ISN'T THE END! Don't forget to complete the next task where you will describe your plot**\n",
    "    \n",
    "<img src=\"https://www.nps.gov/pais/learn/nature/images/NPS-KempsRidley-Hatchlings.JPG\" height=150 style=\"padding: 1em; border-style: solid; border-color: grey;\" />\n",
    "\n",
    "> Image source: https://www.nps.gov/pais/learn/nature/hatchlingreleases.htm\n",
    "\n",
    "<img src=\"https://static.thenounproject.com/png/3842781-200.png\" width=20 style=\"float: left; padding: 3px\" /> Want an **EXTRA CHALLENGE**?\n",
    "\n",
    "There are many other things you can do to customize your plot. Take a look at the [pandas plotting galleries](https://pandas.pydata.org/docs/user_guide/visualization.html) and the [documentation of plot](https://pandas.pydata.org/docs/reference/api/pandas.DataFrame.plot.html) to see if there's other changes you want to make to your plot. You may also like to check out some lessons in our textbook on the [matplotlib](https://www.earthdatascience.org/courses/scientists-guide-to-plotting-data-in-python/plot-with-matplotlib/introduction-to-matplotlib-plots/customize-plot-colors-labels-matplotlib/) plotting library. Some possibilities include:\n",
    "  * Remove the legend since there's only one data series\n",
    "  * Increase the figure size\n",
    "  * Increase the font size\n",
    "  * Change the colors\n",
    "  * Use a bar graph instead (usually we use lines for time series, but since this is annual it could go either way)\n",
    "  * Add a trend line"
   ]
  },
  {
   "cell_type": "markdown",
   "metadata": {
    "deletable": false,
    "editable": false,
    "nbgrader": {
     "cell_type": "markdown",
     "checksum": "beca4e92a535c474beb42feb87ab5e7b",
     "grade": false,
     "grade_id": "task-description",
     "locked": true,
     "points": 5,
     "schema_version": 3,
     "solution": false,
     "task": true
    },
    "tags": [
     "remove_cell"
    ]
   },
   "source": [
    "## Describe your plot **in the Markdown cell below**\n",
    "\n",
    "We like to use an approach called \"Assertion-Evidence\" for presenting scientific results. There's a lot of video tutorials and example talks available on [the Assertion-Evidence web page](https://www.assertion-evidence.com/). The main thing you need to do now is to practice writing a **message** or **headline** rather than descriptions or topic sentences for the plot you just made (what they refer to as \"visual evidence\").\n",
    "\n",
    "For example, it would be tempting to write something like \"A plot of global temperature anomaly over time (1850-2022)\". However, this doesn't give the reader anything to look at, or explain why we made this particular plot (we know, you made **this** one because we told you to)\n",
    "\n",
    "Some alternatives that are more of a starting point for a presentation or conversation are:\n",
    "  * The globe experienced extreme departures from historic average temperatures in 2015 and 2019\n",
    "  * Departures from historic global average temperatures appear to be on the rise over the past 70 years\n",
    "  * Global temperature anomalies are becoming more variable over the previous 70 years\n",
    "  \n",
    "We could back up some of these claims with further analysis included later on, but we want to make sure that our audience has some guidance on what to look for in the plot.\n"
   ]
  },
  {
   "cell_type": "markdown",
   "metadata": {},
   "source": [
    "## YOUR GLOBAL TEMPERATURE ANOMALY PLOT HEADLINE HERE\n",
    "Describe your plot in this cell in 2-3 sentences"
   ]
  },
  {
   "cell_type": "markdown",
   "metadata": {
    "deletable": false,
    "editable": false,
    "nbgrader": {
     "cell_type": "markdown",
     "checksum": "fbe940514b0f6fc01055091a4ef958fe",
     "grade": false,
     "grade_id": "inst-keep-going",
     "locked": true,
     "schema_version": 3,
     "solution": false,
     "task": false
    }
   },
   "source": [
    "**THIS ISN'T THE END EITHER! Don't forget to reproduce your analysis in a new location!**\n",
    "\n",
    "<img src=\"https://static.independent.co.uk/s3fs-public/thumbnails/image/2008/12/26/20/107000.jpg\" height=150 style=\"padding: 1em; border-style: solid; border-color: grey;\" >\n",
    "\n",
    "> Image source: https://www.independent.co.uk/climate-change/news/by-the-left-quick-march-the-emperor-penguins-migration-1212420.html"
   ]
  },
  {
   "cell_type": "markdown",
   "metadata": {
    "deletable": false,
    "editable": false,
    "nbgrader": {
     "cell_type": "markdown",
     "checksum": "26fb1e8cd5f4f865fd3e32c26947a3b1",
     "grade": false,
     "grade_id": "inst-your-turn",
     "locked": true,
     "schema_version": 3,
     "solution": false,
     "task": false
    }
   },
   "source": [
    "## Your turn: pick a new location and/or measurement to plot\n",
    "Below, recreate the workflow you just did in a place that interests you OR with a different measurement. See the instructions above for how to get your URL. You will need to make your own new Markdown and Code cells below this one."
   ]
  },
  {
   "cell_type": "markdown",
   "metadata": {
    "deletable": false,
    "editable": false,
    "nbgrader": {
     "cell_type": "markdown",
     "checksum": "83ab11eed640220156fbcd68ab100497",
     "grade": false,
     "grade_id": "inst-restart",
     "locked": true,
     "schema_version": 3,
     "solution": false,
     "task": false
    },
    "tags": [
     "remove_cell"
    ]
   },
   "source": [
    "## Congratulations, you finished this coding challenge -- now make sure that your code is **reproducible**\n",
    "\n",
    "1. If you didn't already, go back to the code you modified about and write more descriptive **comments** so the next person to use this code knows what it does.\n",
    "\n",
    "2. Make sure to `Restart` and `Run all`  up at the top of your notebook. This will clear all your variables and make sure that your code runs in the correct order. It will also export your work in Markdown format, which you can put on your website.\n",
    "\n",
    "<img src=\"https://dfwurbanwildlife.com/wp-content/uploads/2018/03/SnowGeese16.jpg\" height=150 style=\"padding: 1em; border-style: solid; border-color: grey;\" />\n",
    "\n",
    "> Image source: https://dfwurbanwildlife.com/2018/03/25/chris-jacksons-dfw-urban-wildlife/snow-geese-galore/"
   ]
  },
  {
   "cell_type": "code",
   "execution_count": null,
   "metadata": {
    "tags": [
     "remove_cell"
    ]
   },
   "outputs": [],
   "source": [
    "!jupyter nbconvert --to html *.ipynb --TagRemovePreprocessor.remove_cell_tags='{\"remove_cell\"}'"
   ]
  }
 ],
 "metadata": {
  "colab": {
   "collapsed_sections": [],
   "name": "ea-bootcamp-01-get-started-reproducible-science-svetlana-kurakina.ipynb",
   "provenance": []
  },
  "kernelspec": {
   "display_name": "Python 3 (ipykernel)",
   "language": "python",
   "name": "python3"
  },
  "language_info": {
   "codemirror_mode": {
    "name": "ipython",
    "version": 3
   },
   "file_extension": ".py",
   "mimetype": "text/x-python",
   "name": "python",
   "nbconvert_exporter": "python",
   "pygments_lexer": "ipython3",
   "version": "3.10.11"
  },
  "varInspector": {
   "cols": {
    "lenName": 16,
    "lenType": 16,
    "lenVar": 40
   },
   "kernels_config": {
    "python": {
     "delete_cmd_postfix": "",
     "delete_cmd_prefix": "del ",
     "library": "var_list.py",
     "varRefreshCmd": "print(var_dic_list())"
    },
    "r": {
     "delete_cmd_postfix": ") ",
     "delete_cmd_prefix": "rm(",
     "library": "var_list.r",
     "varRefreshCmd": "cat(var_dic_list()) "
    }
   },
   "types_to_exclude": [
    "module",
    "function",
    "builtin_function_or_method",
    "instance",
    "_Feature"
   ],
   "window_display": false
  }
 },
 "nbformat": 4,
 "nbformat_minor": 4
}
